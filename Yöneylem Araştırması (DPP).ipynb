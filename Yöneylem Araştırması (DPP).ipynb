{
 "cells": [
  {
   "cell_type": "markdown",
   "metadata": {},
   "source": [
    "## DPP - Yöneylem Araştırması by OVO Analytics\n",
    "Made by Eren BOZARIK"
   ]
  },
  {
   "cell_type": "markdown",
   "metadata": {},
   "source": [
    "  <div><b>MAX Z = 3X1+X2-X3-2X4<font color= #FF0000;>+0X5</font></b><br/><b>2X1+2X3+X4<font color= #FF0000;>+X5</font>=20</b><br/><b>X1+X2=12</b></div>\n",
    " <div>\n",
    "            <table style=\"width:100%;\">\n",
    "                <tr>\n",
    "                    <td class=\"auto-style9\" COLSPAN=\"3\"><strong>TABLO-1</strong></td>\n",
    "                    <td class=\"auto-style9\"><strong>3</strong></td>\n",
    "                    <td class=\"auto-style9\"><strong>1</strong></td>\n",
    "                    <td class=\"auto-style9\"><strong>-1</strong></td>\n",
    "                    <td class=\"auto-style9\"><strong>-2</strong></td>\n",
    "                    <td class=\"auto-style9\"><strong>0</strong></td>\n",
    "                </tr>\n",
    "                <tr>\n",
    "                    <td class=\"auto-style12\"><strong>CB</strong></td>\n",
    "                    <td class=\"auto-style11\"><strong>TU</strong></td>\n",
    "                    <td class=\"auto-style10\"><strong>XB</strong></td>\n",
    "                    <td class=\"auto-style13\"><strong>y1</strong></td>\n",
    "                    <td class=\"auto-style13\"><strong>y2</strong></td>\n",
    "                    <td class=\"auto-style13\"><strong>y3</strong></td>\n",
    "                    <td class=\"auto-style13\"><strong>y4</strong></td>\n",
    "                    <td class=\"auto-style13\"><strong>y5</strong></td>\n",
    "                </tr>\n",
    "                <tr>\n",
    "                    <td class=\"auto-style5\">-2</td>\n",
    "                    <td class=\"auto-style6\">X4</td>\n",
    "                    <td class=\"auto-style7\">20</td>\n",
    "                    <td class=\"auto-style8\">2</td>\n",
    "                    <td class=\"auto-style8\">0</td>\n",
    "                    <td class=\"auto-style8\">2</td>\n",
    "                    <td class=\"auto-style8\">1</td>\n",
    "                    <td class=\"auto-style8\">1</td>\n",
    "                </tr>\n",
    "                <tr>\n",
    "                    <td class=\"auto-style14\">1</td>\n",
    "                    <td class=\"auto-style15\">X2</td>\n",
    "                    <td class=\"auto-style16\">12</td>\n",
    "                    <td class=\"auto-style17\">1</td>\n",
    "                    <td class=\"auto-style17\">1</td>\n",
    "                    <td class=\"auto-style17\">0</td>\n",
    "                    <td class=\"auto-style17\">0</td>\n",
    "                    <td class=\"auto-style17\">0</td>\n",
    "                </tr>\n",
    "                <tr>\n",
    "                    <td class=\"auto-style13\" colspan=\"3\">-28</td>\n",
    "                    <td class=\"auto-style13\">-6</td>\n",
    "                    <td class=\"auto-style13\">0</td>\n",
    "                    <td class=\"auto-style13\">-3</td>\n",
    "                    <td class=\"auto-style13\">0</td>\n",
    "                    <td class=\"auto-style13\">-2</td>\n",
    "                </tr>\n",
    "                </table>"
   ]
  },
  {
   "cell_type": "code",
   "execution_count": 130,
   "metadata": {},
   "outputs": [],
   "source": [
    "import numpy as np \n",
    "from IPython.display import clear_output"
   ]
  },
  {
   "cell_type": "code",
   "execution_count": 131,
   "metadata": {},
   "outputs": [],
   "source": [
    "def CMatrix(countCMartrix):\n",
    "    _CMartrixList=[]\n",
    "    for j in range(1,countCMartrix+1):\n",
    "        print(\"C Matrisinin {}.Elemanini Giriniz : \".format(j))\n",
    "        _CMatrixParameters=int(input())\n",
    "        _CMartrixList.append(_CMatrixParameters)\n",
    "    return _CMartrixList\n",
    "\n",
    "def AMatrix(countAMartrix):\n",
    "    _AMartrixList=[]\n",
    "    for i in range(1,countAMartrix+1):\n",
    "        print(\"A Matrisinin {}.Elemanini Giriniz : \".format(i))\n",
    "        _AMatrixParameters=int(input())\n",
    "        _AMartrixList.append(_AMatrixParameters)\n",
    "    return _AMartrixList\n",
    "\n",
    "def CB(cbValues):\n",
    "    cbList=[]\n",
    "    for k in range(1,cbValues+1):\n",
    "        print(\"CB'nin {}.Elemanini Giriniz : \".format(k))\n",
    "        _cbParameters=int(input())\n",
    "        cbList.append(_cbParameters)\n",
    "    return cbList\n",
    "\n",
    "def TU(tuValues):\n",
    "    tuList=[]\n",
    "    for l in range(1,tuValues+1):\n",
    "        print(\"TU'nun {}.Degisken Adini Giriniz : \".format(l))\n",
    "        _tuParameters=str(input())\n",
    "        tuList.append(_tuParameters)\n",
    "    return tuList\n",
    "\n",
    "def XB(xbValues):\n",
    "    xbList=[]\n",
    "    for m in range(1,xbValues+1):\n",
    "        print(\"XB'nin {}.Elemanini Giriniz : \".format(m))\n",
    "        _xbParameters=int(input())\n",
    "        xbList.append(_xbParameters)\n",
    "    return xbList"
   ]
  },
  {
   "cell_type": "code",
   "execution_count": null,
   "metadata": {},
   "outputs": [],
   "source": [
    "_countCMartrix=int(input(\"C Matrisi Eleman Sayisini Giriniz : \"))\n",
    "clear_output()\n",
    "_shapedCMatrix=np.array(CMatrix(_countCMartrix))\n",
    "print(\"C Matrisi = {}\".format(_shapedCMatrix))"
   ]
  },
  {
   "cell_type": "code",
   "execution_count": null,
   "metadata": {},
   "outputs": [],
   "source": [
    " _countAMartrix=int(input(\"A Matrisi Eleman Sayisini Giriniz : \"))\n",
    "_rowAMartrix=int(input(\"A Matrisi Satir Sayisini Giriniz : \"))\n",
    "_colAMartrix=int(input(\"A Matrisi Kolon Sayisini Giriniz : \"))\n",
    "\n",
    "_shapedAMatrix = np.array(AMatrix(_countAMartrix)).reshape(_rowAMartrix,_colAMartrix)\n",
    "clear_output()\n",
    "print(\"A Matrisi = \\n{}\".format(_shapedAMatrix))"
   ]
  },
  {
   "cell_type": "code",
   "execution_count": null,
   "metadata": {},
   "outputs": [],
   "source": [
    "_cbList=np.array(CB(_rowAMartrix)).reshape(_rowAMartrix,1)\n",
    "_tuList=np.array(TU(_rowAMartrix)).reshape(_rowAMartrix,1)\n",
    "_xbList=np.array(XB(_rowAMartrix)).reshape(_rowAMartrix,1)\n",
    "clear_output()\n",
    "print(\"\\nCB=\\n{}\\nTU=\\n{}\\nXB=\\n{}\".format(_cbList,_tuList,_xbList))"
   ]
  },
  {
   "cell_type": "code",
   "execution_count": null,
   "metadata": {},
   "outputs": [],
   "source": [
    "_sumVal=0\n",
    "for n in range(0,_rowAMartrix):\n",
    "    _sum=_cbList[n]*_xbList[n]\n",
    "    _sumVal+=_sum\n",
    "print(_sumVal)"
   ]
  },
  {
   "cell_type": "code",
   "execution_count": null,
   "metadata": {},
   "outputs": [],
   "source": [
    "_zValues=[]\n",
    "for r in range(0,_colAMartrix):\n",
    "    val=(_cbList[0]*_shapedAMatrix[0][r])+(_cbList[1]*_shapedAMatrix[1][r])-_shapedCMatrix[r]\n",
    "    _zValues.append(val)\n",
    "_zArray=np.array(_zValues).reshape(1,len(_zValues))   \n",
    "print(_zArray)"
   ]
  },
  {
   "cell_type": "code",
   "execution_count": null,
   "metadata": {},
   "outputs": [],
   "source": [
    "kucukListe=[]\n",
    "for s in range(0,len(_zArray)):\n",
    "    if(_zArray[0][s]<_zArray[0][s+1]):\n",
    "        kucukListe.append(_zArray[0][s])\n",
    "print(\"En kucuk deger {}\".format(kucukListe))"
   ]
  }
 ],
 "metadata": {
  "kernelspec": {
   "display_name": "Python 3",
   "language": "python",
   "name": "python3"
  },
  "language_info": {
   "codemirror_mode": {
    "name": "ipython",
    "version": 3
   },
   "file_extension": ".py",
   "mimetype": "text/x-python",
   "name": "python",
   "nbconvert_exporter": "python",
   "pygments_lexer": "ipython3",
   "version": "3.6.7"
  }
 },
 "nbformat": 4,
 "nbformat_minor": 2
}
