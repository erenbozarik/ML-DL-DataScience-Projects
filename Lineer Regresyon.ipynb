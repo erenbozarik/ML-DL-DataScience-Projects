{
 "cells": [
  {
   "cell_type": "markdown",
   "metadata": {},
   "source": [
    "# OVO ANALYTICS - LINEER REGRESYON PROJESI \n",
    "Made by EREN BOZARIK"
   ]
  },
  {
   "cell_type": "code",
   "execution_count": 196,
   "metadata": {},
   "outputs": [],
   "source": [
    "import numpy as np \n",
    "import matplotlib.pyplot as plt\n",
    "import pandas"
   ]
  },
  {
   "cell_type": "code",
   "execution_count": 197,
   "metadata": {},
   "outputs": [],
   "source": [
    "def find_m(n,x,y):\n",
    "    return ((n*(np.sum(x*y)))-(np.sum(x)*np.sum(y)))/(n*np.sum(x**2)-(np.sum(x)**2))\n",
    "def find_b(m,n,x,y):\n",
    "    return ((np.sum(y))-(m*(np.sum(x))))/n\n",
    "def predict(m,b,x):\n",
    "    return m*x+b"
   ]
  },
  {
   "cell_type": "code",
   "execution_count": 198,
   "metadata": {},
   "outputs": [],
   "source": [
    "df = pandas.read_csv('houseprices.csv')\n",
    "a=df[\"size\"]\n",
    "b=df[\"price\"]"
   ]
  },
  {
   "cell_type": "code",
   "execution_count": 199,
   "metadata": {
    "scrolled": false
   },
   "outputs": [],
   "source": [
    "X1=np.array(a)#X degerleri\n",
    "Y1=np.array(b)#Y degerleri"
   ]
  },
  {
   "cell_type": "code",
   "execution_count": 200,
   "metadata": {},
   "outputs": [
    {
     "name": "stdout",
     "output_type": "stream",
     "text": [
      "Regresyon Dogrusu = (933.1457672225376)x+(6929.872041963351)\n",
      "y tahmin=153433.75749590178\n"
     ]
    }
   ],
   "source": [
    "m=find_m(np.size(X1),X1,Y1)\n",
    "b=find_b(m,np.size(X1),X1,Y1)\n",
    "print(\"Regresyon Dogrusu = ({})x+({})\".format(m,b))\n",
    "y=predict(m,b,157)\n",
    "print(\"y tahmin={}\".format(y))"
   ]
  },
  {
   "cell_type": "code",
   "execution_count": 201,
   "metadata": {},
   "outputs": [
    {
     "data": {
      "text/plain": [
       "[<matplotlib.lines.Line2D at 0x1bbc0fb0a90>,\n",
       " <matplotlib.lines.Line2D at 0x1bbc0fb0be0>]"
      ]
     },
     "execution_count": 201,
     "metadata": {},
     "output_type": "execute_result"
    },
    {
     "data": {
      "image/png": "[encoded data removed]",
      "text/plain": [
       "<Figure size 432x288 with 1 Axes>"
      ]
     },
     "metadata": {
      "needs_background": "light"
     },
     "output_type": "display_data"
    }
   ],
   "source": [
    "plt.plot(X1,Y1,'ro', X1,m*X1+b, '--k')"
   ]
  }
 ],
 "metadata": {
  "kernelspec": {
   "display_name": "Python 3",
   "language": "python",
   "name": "python3"
  },
  "language_info": {
   "codemirror_mode": {
    "name": "ipython",
    "version": 3
   },
   "file_extension": ".py",
   "mimetype": "text/x-python",
   "name": "python",
   "nbconvert_exporter": "python",
   "pygments_lexer": "ipython3",
   "version": "3.6.7"
  }
 },
 "nbformat": 4,
 "nbformat_minor": 2
}
