{
 "cells": [
  {
   "cell_type": "markdown",
   "metadata": {},
   "source": [
    "## Taylor Sin(x) Serisi by OVO Analytics\n",
    "Made by Eren BOZARIK"
   ]
  },
  {
   "cell_type": "code",
   "execution_count": 3,
   "metadata": {},
   "outputs": [],
   "source": [
    "import numpy as np\n",
    "import time"
   ]
  },
  {
   "cell_type": "code",
   "execution_count": 4,
   "metadata": {},
   "outputs": [],
   "source": [
    "def taylor_sin(x):\n",
    "    start_time =  time.time()\n",
    "    x1=x*(np.pi/180)\n",
    "    val=0\n",
    "    for n in range(0, 25):\n",
    "        add=(((-1) ** n) * (x1 ** (2*n+1)) / np.math.factorial(2*n + 1))\n",
    "        val+=add\n",
    "    end_time =   time.time()\n",
    "    print(\"{:.2f} surede hesaplandi\" .format(float(end_time - start_time)))\n",
    "    return val"
   ]
  },
  {
   "cell_type": "code",
   "execution_count": 6,
   "metadata": {},
   "outputs": [
    {
     "name": "stdout",
     "output_type": "stream",
     "text": [
      "Hesaplanacak Dereceyi Giriniz :30\n",
      "0.00 surede hesaplandi\n",
      "Sin(30) = 0.50\n"
     ]
    }
   ],
   "source": [
    "a=int(input(\"Hesaplanacak Dereceyi Giriniz :\"))\n",
    "print(\"Sin({}) = {:.2f}\".format(a,taylor_sin(a)))"
   ]
  }
 ],
 "metadata": {
  "kernelspec": {
   "display_name": "Python 3",
   "language": "python",
   "name": "python3"
  },
  "language_info": {
   "codemirror_mode": {
    "name": "ipython",
    "version": 3
   },
   "file_extension": ".py",
   "mimetype": "text/x-python",
   "name": "python",
   "nbconvert_exporter": "python",
   "pygments_lexer": "ipython3",
   "version": "3.6.7"
  }
 },
 "nbformat": 4,
 "nbformat_minor": 2
}
