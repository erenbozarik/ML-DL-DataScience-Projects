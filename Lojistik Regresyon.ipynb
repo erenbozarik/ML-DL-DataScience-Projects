{
 "cells": [
  {
   "cell_type": "markdown",
   "metadata": {},
   "source": [
    "## Lojistik Regresyon Hesabı by OVO Analytics\n",
    "Made by Eren BOZARIK\n",
    "\n",
    "<table><tr><td><b>X</b></td>\n",
    "        <td>80</td>\n",
    "        <td>77</td>\n",
    "        <td>70</td>\n",
    "        <td>68</td>\n",
    "        <td>64</td>\n",
    "        <td>60</td>\n",
    "        <td>50</td>\n",
    "        <td>46</td>\n",
    "        <td>40</td>\n",
    "        <td>35</td>\n",
    "        <td>30</td>\n",
    "        <td>25</td>\n",
    "        </tr>\n",
    "    <tr><td><b>Y</b></td>\n",
    "        <td>1</td>\n",
    "        <td>1</td>\n",
    "        <td>0</td>\n",
    "        <td>1</td>\n",
    "        <td>0</td>\n",
    "        <td>1</td>\n",
    "        <td>1</td>\n",
    "        <td>0</td>\n",
    "        <td>1</td>\n",
    "        <td>0</td>\n",
    "        <td>0</td>\n",
    "        <td>1</td>\n",
    "    </tr></table>\n",
    "    <b>X:</b>Öfke Skorları<br/>\n",
    "    <b>Y:</b>2.Kez Kalp Krizi Geçirme Durumu (Evet (1) / Hayır (0))<br/>\n",
    "    <b>Problem:</b> Kişinin öfke skoruna göre kalp krizi geçirme olasılığı nedir?"
   ]
  },
  {
   "cell_type": "code",
   "execution_count": 10,
   "metadata": {},
   "outputs": [],
   "source": [
    "import statsmodels.api as sm\n",
    "import statsmodels.formula.api as smf\n",
    "import pandas as pd\n",
    "import numpy as np"
   ]
  },
  {
   "cell_type": "code",
   "execution_count": 11,
   "metadata": {},
   "outputs": [
    {
     "name": "stdout",
     "output_type": "stream",
     "text": [
      "                 Generalized Linear Model Regression Results                  \n",
      "==============================================================================\n",
      "Dep. Variable:                      y   No. Observations:                   12\n",
      "Model:                            GLM   Df Residuals:                       10\n",
      "Model Family:                Binomial   Df Model:                            1\n",
      "Link Function:                  logit   Scale:                          1.0000\n",
      "Method:                          IRLS   Log-Likelihood:                -7.8450\n",
      "Date:                Thu, 15 Nov 2018   Deviance:                       15.690\n",
      "Time:                        00:34:10   Pearson chi2:                     11.9\n",
      "No. Iterations:                     4   Covariance Type:             nonrobust\n",
      "==============================================================================\n",
      "                 coef    std err          z      P>|z|      [0.025      0.975]\n",
      "------------------------------------------------------------------------------\n",
      "Intercept     -1.0473      1.886     -0.555      0.579      -4.743       2.648\n",
      "x              0.0261      0.034      0.765      0.444      -0.041       0.093\n",
      "==============================================================================\n"
     ]
    }
   ],
   "source": [
    "dta = pd.DataFrame({'x': [80,77,70,68,64,60,50,46,40,35,30,25],'y': [1,1,0,1,0,1,1,0,1,0,0,1]})\n",
    "ex=smf.glm(formula='y ~ x', data=dta, family=sm.families.Binomial()).fit()\n",
    "print(ex.summary())\n",
    "beta_zero=ex.params[0]\n",
    "beta_one=ex.params[1]"
   ]
  },
  {
   "cell_type": "markdown",
   "metadata": {},
   "source": [
    "<h3> Veriler CSV dosyasından çekilmesi gerektiğinde bu blogu çalıştırınız.</h3>"
   ]
  },
  {
   "cell_type": "code",
   "execution_count": 17,
   "metadata": {},
   "outputs": [],
   "source": [
    "#dataset=pd.read_csv('dataset/heart_attack.csv')\n",
    "#X1=dataset['x']\n",
    "#Y1=dataset['y']\n",
    "#pd.DataFrame({'x': X1,'y': Y1})\n",
    "#ex1=smf.glm(formula='y ~ x', data=dta, family=sm.families.Binomial()).fit()\n",
    "#print(ex1.summary())\n",
    "#beta1_zero=ex1.params[0]\n",
    "#beta1_one=ex1.params[1]"
   ]
  },
  {
   "cell_type": "code",
   "execution_count": 18,
   "metadata": {},
   "outputs": [
    {
     "name": "stdout",
     "output_type": "stream",
     "text": [
      "Öfke Skoru Giriniz : 55\n",
      "2. Kalp Krizi Riski : %59.54\n"
     ]
    }
   ],
   "source": [
    "def predict(x):\n",
    "    return 1/(1+np.exp((-1)*((beta_zero)+(beta_one*x))))\n",
    "\n",
    "i=float(input(\"Öfke Skoru Giriniz : \"))\n",
    "print(\"2. Kalp Krizi Riski : %{:.2f}\".format(predict(i)*100))"
   ]
  }
 ],
 "metadata": {
  "kernelspec": {
   "display_name": "Python 3",
   "language": "python",
   "name": "python3"
  },
  "language_info": {
   "codemirror_mode": {
    "name": "ipython",
    "version": 3
   },
   "file_extension": ".py",
   "mimetype": "text/x-python",
   "name": "python",
   "nbconvert_exporter": "python",
   "pygments_lexer": "ipython3",
   "version": "3.6.7"
  }
 },
 "nbformat": 4,
 "nbformat_minor": 2
}
